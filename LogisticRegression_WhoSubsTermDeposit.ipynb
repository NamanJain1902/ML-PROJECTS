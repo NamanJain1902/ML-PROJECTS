{
  "nbformat": 4,
  "nbformat_minor": 0,
  "metadata": {
    "colab": {
      "name": "LogisticRegression.ipynb",
      "provenance": [],
      "collapsed_sections": [],
      "authorship_tag": "ABX9TyNIsoPbhxFSFS4REASvwgPP",
      "include_colab_link": true
    },
    "kernelspec": {
      "name": "python3",
      "display_name": "Python 3"
    },
    "language_info": {
      "name": "python"
    }
  },
  "cells": [
    {
      "cell_type": "markdown",
      "metadata": {
        "id": "view-in-github",
        "colab_type": "text"
      },
      "source": [
        "<a href=\"https://colab.research.google.com/github/NamanJain1902/ML-PROJECTS/blob/master/LogisticRegression_WhoSubsTermDeposit.ipynb\" target=\"_parent\"><img src=\"https://colab.research.google.com/assets/colab-badge.svg\" alt=\"Open In Colab\"/></a>"
      ]
    },
    {
      "cell_type": "code",
      "metadata": {
        "colab": {
          "base_uri": "https://localhost:8080/"
        },
        "id": "ZfAJdxrIDLjn",
        "outputId": "153cd4ab-f24b-4938-fc1b-a21f392e239b"
      },
      "source": [
        "from google.colab import drive\n",
        "drive.mount('/content/drive')"
      ],
      "execution_count": 5,
      "outputs": [
        {
          "output_type": "stream",
          "text": [
            "Drive already mounted at /content/drive; to attempt to forcibly remount, call drive.mount(\"/content/drive\", force_remount=True).\n"
          ],
          "name": "stdout"
        }
      ]
    },
    {
      "cell_type": "code",
      "metadata": {
        "id": "t7LzBmJxDnQD"
      },
      "source": [
        "import pandas as pd\n",
        "import numpy as np\n",
        "from sklearn import preprocessing\n",
        "import matplotlib.pyplot as plt \n",
        "import seaborn as sns\n",
        "from sklearn.model_selection import train_test_split"
      ],
      "execution_count": 6,
      "outputs": []
    },
    {
      "cell_type": "code",
      "metadata": {
        "id": "NPrPIlTmO66s"
      },
      "source": [
        "plt.rc(\"font\", size=14)\n",
        "sns.set(style=\"white\")\n",
        "sns.set(style=\"whitegrid\", color_codes=True)"
      ],
      "execution_count": 7,
      "outputs": []
    },
    {
      "cell_type": "code",
      "metadata": {
        "colab": {
          "base_uri": "https://localhost:8080/"
        },
        "id": "8kFDF0yZFYGo",
        "outputId": "44a7ce0e-da23-44ee-c096-be3e519eb7a4"
      },
      "source": [
        "data = pd.read_csv(\"/content/drive/MyDrive/banking.csv\")\n",
        "data.dropna()\n",
        "print(data.shape)\n",
        "print(list(data.columns))\n",
        "print(data)"
      ],
      "execution_count": 8,
      "outputs": [
        {
          "output_type": "stream",
          "text": [
            "(41188, 21)\n",
            "['age', 'job', 'marital', 'education', 'default', 'housing', 'loan', 'contact', 'month', 'day_of_week', 'duration', 'campaign', 'pdays', 'previous', 'poutcome', 'emp_var_rate', 'cons_price_idx', 'cons_conf_idx', 'euribor3m', 'nr_employed', 'y']\n",
            "       age          job  marital  ... euribor3m nr_employed  y\n",
            "0       44  blue-collar  married  ...     4.963      5228.1  0\n",
            "1       53   technician  married  ...     4.021      5195.8  0\n",
            "2       28   management   single  ...     0.729      4991.6  1\n",
            "3       39     services  married  ...     1.405      5099.1  0\n",
            "4       55      retired  married  ...     0.869      5076.2  1\n",
            "...    ...          ...      ...  ...       ...         ... ..\n",
            "41183   59      retired  married  ...     4.866      5228.1  0\n",
            "41184   31    housemaid  married  ...     4.860      5191.0  0\n",
            "41185   42       admin.   single  ...     4.857      5191.0  0\n",
            "41186   48   technician  married  ...     0.742      5017.5  0\n",
            "41187   25      student   single  ...     4.859      5191.0  0\n",
            "\n",
            "[41188 rows x 21 columns]\n"
          ],
          "name": "stdout"
        }
      ]
    },
    {
      "cell_type": "code",
      "metadata": {
        "colab": {
          "base_uri": "https://localhost:8080/"
        },
        "id": "13ye3OxhFlLj",
        "outputId": "536ecec2-b8b9-47d4-b222-71faffde3f8b"
      },
      "source": [
        "print(data['education'].unique())"
      ],
      "execution_count": 9,
      "outputs": [
        {
          "output_type": "stream",
          "text": [
            "['basic.4y' 'unknown' 'university.degree' 'high.school' 'basic.9y'\n",
            " 'professional.course' 'basic.6y' 'illiterate']\n"
          ],
          "name": "stdout"
        }
      ]
    },
    {
      "cell_type": "code",
      "metadata": {
        "id": "vatXHy2fGm4B"
      },
      "source": [
        "data['education'] = np.where(data['education'] == 'basic.4y', 'Basic', data['education'])\n",
        "data['education'] = np.where(data['education'] == 'basic.6y', 'Basic', data['education'])\n",
        "data['education'] = np.where(data['education'] == 'basic.9y', 'Basic', data['education'])"
      ],
      "execution_count": 10,
      "outputs": []
    },
    {
      "cell_type": "code",
      "metadata": {
        "colab": {
          "base_uri": "https://localhost:8080/"
        },
        "id": "4ewLMcJLHDeX",
        "outputId": "26a68f8b-bdac-4e88-b26d-e4bd9fce15b7"
      },
      "source": [
        "print(data['education'].unique())"
      ],
      "execution_count": 11,
      "outputs": [
        {
          "output_type": "stream",
          "text": [
            "['Basic' 'unknown' 'university.degree' 'high.school' 'professional.course'\n",
            " 'illiterate']\n"
          ],
          "name": "stdout"
        }
      ]
    },
    {
      "cell_type": "code",
      "metadata": {
        "colab": {
          "base_uri": "https://localhost:8080/"
        },
        "id": "ecDxlJTXHHEo",
        "outputId": "dd28752c-be1a-4660-ce57-9dfaa12555ce"
      },
      "source": [
        "data['y'].value_counts()"
      ],
      "execution_count": 12,
      "outputs": [
        {
          "output_type": "execute_result",
          "data": {
            "text/plain": [
              "0    36548\n",
              "1     4640\n",
              "Name: y, dtype: int64"
            ]
          },
          "metadata": {
            "tags": []
          },
          "execution_count": 12
        }
      ]
    },
    {
      "cell_type": "code",
      "metadata": {
        "colab": {
          "base_uri": "https://localhost:8080/",
          "height": 302
        },
        "id": "wOaunRPBJ8YJ",
        "outputId": "202e93d5-6838-4eb1-ccdb-a90346fe5aae"
      },
      "source": [
        "sns.countplot(x='y', data=data, palette='hls')\n",
        "plt.show()\n",
        "plt.savefig('count_plot')"
      ],
      "execution_count": 13,
      "outputs": [
        {
          "output_type": "display_data",
          "data": {
            "image/png": "[encoded data removed]",
            "text/plain": [
              "<Figure size 432x288 with 1 Axes>"
            ]
          },
          "metadata": {
            "tags": []
          }
        },
        {
          "output_type": "display_data",
          "data": {
            "text/plain": [
              "<Figure size 432x288 with 0 Axes>"
            ]
          },
          "metadata": {
            "tags": []
          }
        }
      ]
    },
    {
      "cell_type": "code",
      "metadata": {
        "id": "66oxx0QcPQC-",
        "colab": {
          "base_uri": "https://localhost:8080/"
        },
        "outputId": "0d7d259e-515e-48fd-8c56-755565d2400d"
      },
      "source": [
        "count_subs = len(data[data['y'] == 1])\n",
        "count_no_subs = len(data[data['y'] == 0])\n",
        "\n",
        "percentage_of_subs = round((count_subs / (count_subs + count_no_subs)) * 100, 2)\n",
        "percentage_of_no_subs = round((count_no_subs / (count_subs + count_no_subs)) * 100, 2)\n",
        "\n",
        "print(\"Subcription Percentage\", percentage_of_subs)"
      ],
      "execution_count": 14,
      "outputs": [
        {
          "output_type": "stream",
          "text": [
            "Subcription Percentage 11.27\n"
          ],
          "name": "stdout"
        }
      ]
    },
    {
      "cell_type": "code",
      "metadata": {
        "colab": {
          "base_uri": "https://localhost:8080/",
          "height": 142
        },
        "id": "0gvRcMjhX3J0",
        "outputId": "23f4564f-8393-4aa8-c2cf-6e5fb04f5259"
      },
      "source": [
        "data.groupby('y').mean()"
      ],
      "execution_count": 15,
      "outputs": [
        {
          "output_type": "execute_result",
          "data": {
            "text/html": [
              "<div>\n",
              "<style scoped>\n",
              "    .dataframe tbody tr th:only-of-type {\n",
              "        vertical-align: middle;\n",
              "    }\n",
              "\n",
              "    .dataframe tbody tr th {\n",
              "        vertical-align: top;\n",
              "    }\n",
              "\n",
              "    .dataframe thead th {\n",
              "        text-align: right;\n",
              "    }\n",
              "</style>\n",
              "<table border=\"1\" class=\"dataframe\">\n",
              "  <thead>\n",
              "    <tr style=\"text-align: right;\">\n",
              "      <th></th>\n",
              "      <th>age</th>\n",
              "      <th>duration</th>\n",
              "      <th>campaign</th>\n",
              "      <th>pdays</th>\n",
              "      <th>previous</th>\n",
              "      <th>emp_var_rate</th>\n",
              "      <th>cons_price_idx</th>\n",
              "      <th>cons_conf_idx</th>\n",
              "      <th>euribor3m</th>\n",
              "      <th>nr_employed</th>\n",
              "    </tr>\n",
              "    <tr>\n",
              "      <th>y</th>\n",
              "      <th></th>\n",
              "      <th></th>\n",
              "      <th></th>\n",
              "      <th></th>\n",
              "      <th></th>\n",
              "      <th></th>\n",
              "      <th></th>\n",
              "      <th></th>\n",
              "      <th></th>\n",
              "      <th></th>\n",
              "    </tr>\n",
              "  </thead>\n",
              "  <tbody>\n",
              "    <tr>\n",
              "      <th>0</th>\n",
              "      <td>39.911185</td>\n",
              "      <td>220.844807</td>\n",
              "      <td>2.633085</td>\n",
              "      <td>984.113878</td>\n",
              "      <td>0.132374</td>\n",
              "      <td>0.248875</td>\n",
              "      <td>93.603757</td>\n",
              "      <td>-40.593097</td>\n",
              "      <td>3.811491</td>\n",
              "      <td>5176.166600</td>\n",
              "    </tr>\n",
              "    <tr>\n",
              "      <th>1</th>\n",
              "      <td>40.913147</td>\n",
              "      <td>553.191164</td>\n",
              "      <td>2.051724</td>\n",
              "      <td>792.035560</td>\n",
              "      <td>0.492672</td>\n",
              "      <td>-1.233448</td>\n",
              "      <td>93.354386</td>\n",
              "      <td>-39.789784</td>\n",
              "      <td>2.123135</td>\n",
              "      <td>5095.115991</td>\n",
              "    </tr>\n",
              "  </tbody>\n",
              "</table>\n",
              "</div>"
            ],
            "text/plain": [
              "         age    duration  campaign  ...  cons_conf_idx  euribor3m  nr_employed\n",
              "y                                   ...                                       \n",
              "0  39.911185  220.844807  2.633085  ...     -40.593097   3.811491  5176.166600\n",
              "1  40.913147  553.191164  2.051724  ...     -39.789784   2.123135  5095.115991\n",
              "\n",
              "[2 rows x 10 columns]"
            ]
          },
          "metadata": {
            "tags": []
          },
          "execution_count": 15
        }
      ]
    },
    {
      "cell_type": "code",
      "metadata": {
        "id": "pjhqmmauZYXD"
      },
      "source": [
        "job_mean = data.groupby('job').mean()"
      ],
      "execution_count": 16,
      "outputs": []
    },
    {
      "cell_type": "code",
      "metadata": {
        "id": "9OZW2S5KZ4Qz"
      },
      "source": [
        "marital_mean = data.groupby('marital').mean()\n",
        "education_mean = data.groupby('education').mean()"
      ],
      "execution_count": 17,
      "outputs": []
    },
    {
      "cell_type": "code",
      "metadata": {
        "colab": {
          "base_uri": "https://localhost:8080/"
        },
        "id": "QuRBR3yiamcb",
        "outputId": "6b7d4075-c8e5-4da2-90a4-66a4e18df156"
      },
      "source": [
        "print(job_mean)\n",
        "print(marital_mean)\n",
        "print(education_mean)"
      ],
      "execution_count": 18,
      "outputs": [
        {
          "output_type": "stream",
          "text": [
            "                     age    duration  ...  nr_employed         y\n",
            "job                                   ...                       \n",
            "admin.         38.187296  254.312128  ...  5164.125350  0.129726\n",
            "blue-collar    39.555760  264.542360  ...  5175.615150  0.068943\n",
            "entrepreneur   41.723214  263.267857  ...  5176.313530  0.085165\n",
            "housemaid      45.500000  250.454717  ...  5179.529623  0.100000\n",
            "management     42.362859  257.058140  ...  5166.650513  0.112175\n",
            "retired        62.027326  273.712209  ...  5122.262151  0.252326\n",
            "self-employed  39.949331  264.142153  ...  5170.674384  0.104856\n",
            "services       37.926430  258.398085  ...  5171.600126  0.081381\n",
            "student        25.894857  283.683429  ...  5085.939086  0.314286\n",
            "technician     38.507638  250.232241  ...  5175.648391  0.108260\n",
            "unemployed     39.733728  249.451677  ...  5157.156509  0.142012\n",
            "unknown        45.563636  239.675758  ...  5172.931818  0.112121\n",
            "\n",
            "[12 rows x 11 columns]\n",
            "                age    duration  campaign  ...  euribor3m  nr_employed         y\n",
            "marital                                    ...                                  \n",
            "divorced  44.899393  253.790330   2.61340  ...   3.715603  5170.878643  0.103209\n",
            "married   42.307165  257.438623   2.57281  ...   3.745832  5171.848772  0.101573\n",
            "single    33.158714  261.524378   2.53380  ...   3.317447  5155.199265  0.140041\n",
            "unknown   40.275000  312.725000   3.18750  ...   3.313038  5157.393750  0.150000\n",
            "\n",
            "[4 rows x 11 columns]\n",
            "                           age    duration  ...  nr_employed         y\n",
            "education                                   ...                       \n",
            "Basic                42.163910  263.043874  ...  5172.014113  0.087029\n",
            "high.school          37.998213  260.886810  ...  5164.994735  0.108355\n",
            "illiterate           48.500000  276.777778  ...  5171.777778  0.222222\n",
            "professional.course  40.080107  252.533855  ...  5170.155979  0.113485\n",
            "university.degree    38.879191  253.223373  ...  5163.226298  0.137245\n",
            "unknown              43.481225  262.390526  ...  5159.549509  0.145003\n",
            "\n",
            "[6 rows x 11 columns]\n"
          ],
          "name": "stdout"
        }
      ]
    },
    {
      "cell_type": "code",
      "metadata": {
        "colab": {
          "base_uri": "https://localhost:8080/",
          "height": 369
        },
        "id": "yvfKdWLkatUj",
        "outputId": "d0180cd6-8678-4b13-96f5-c4b1ab3c2e71"
      },
      "source": [
        "%matplotlib inline\n",
        "pd.crosstab(data.job, data.y).plot(kind='bar', stacked=True)\n",
        "plt.title(\"Purchase Frequency for Job Title\")\n",
        "plt.xlabel('Job')\n",
        "plt.ylabel('Frequency of Purchase')\n",
        "plt.savefig('purchase_fre_job')"
      ],
      "execution_count": 19,
      "outputs": [
        {
          "output_type": "display_data",
          "data": {
            "image/png": "[encoded data removed]",
            "text/plain": [
              "<Figure size 432x288 with 1 Axes>"
            ]
          },
          "metadata": {
            "tags": [],
            "needs_background": "light"
          }
        }
      ]
    },
    {
      "cell_type": "code",
      "metadata": {
        "colab": {
          "base_uri": "https://localhost:8080/",
          "height": 341
        },
        "id": "26qfqY6wbuUV",
        "outputId": "04a54c60-1c39-4347-f57a-6c301e797330"
      },
      "source": [
        "table = pd.crosstab(data.marital, data.y)\n",
        "table.div(table.sum(1).astype(float), axis=0).plot(kind='bar', stacked=True)\n",
        "# pd.crosstab(data.marital, data.y).plot(kind='bar')\n",
        "plt.title('Stacked Bar Chart of Marital Status vs Purchase')\n",
        "plt.xlabel('Marital Status')\n",
        "plt.ylabel('Proportion of Customers')\n",
        "plt.savefig('mariral_vs_pur_stack')"
      ],
      "execution_count": 20,
      "outputs": [
        {
          "output_type": "display_data",
          "data": {
            "image/png": "[encoded data removed]",
            "text/plain": [
              "<Figure size 432x288 with 1 Axes>"
            ]
          },
          "metadata": {
            "tags": [],
            "needs_background": "light"
          }
        }
      ]
    },
    {
      "cell_type": "code",
      "metadata": {
        "colab": {
          "base_uri": "https://localhost:8080/",
          "height": 398
        },
        "id": "S-ExO3eddn7Y",
        "outputId": "15809810-0bf7-4b4c-dd8e-1c731ba4c97d"
      },
      "source": [
        "table=pd.crosstab(data.education,data.y)\n",
        "table.div(table.sum(1).astype(float), axis=0).plot(kind='bar')\n",
        "plt.title('Stacked Bar Chart of Education vs Purchase')\n",
        "plt.xlabel('Education')\n",
        "plt.ylabel('Proportion of Customers')\n",
        "plt.savefig('edu_vs_pur_stack')"
      ],
      "execution_count": 21,
      "outputs": [
        {
          "output_type": "display_data",
          "data": {
            "image/png": "[encoded data removed]",
            "text/plain": [
              "<Figure size 432x288 with 1 Axes>"
            ]
          },
          "metadata": {
            "tags": [],
            "needs_background": "light"
          }
        }
      ]
    },
    {
      "cell_type": "code",
      "metadata": {
        "colab": {
          "base_uri": "https://localhost:8080/",
          "height": 315
        },
        "id": "jb4126QLey5M",
        "outputId": "88f32aa2-5a12-4f17-dc24-005b634032ac"
      },
      "source": [
        "pd.crosstab(data.day_of_week,data.y).plot(kind='bar')\n",
        "plt.title('Purchase Frequency for Day of Week')\n",
        "plt.xlabel('Day of Week')\n",
        "plt.ylabel('Frequency of Purchase')\n",
        "plt.savefig('pur_dayofweek_bar')"
      ],
      "execution_count": 22,
      "outputs": [
        {
          "output_type": "display_data",
          "data": {
            "image/png": "[encoded data removed]",
            "text/plain": [
              "<Figure size 432x288 with 1 Axes>"
            ]
          },
          "metadata": {
            "tags": [],
            "needs_background": "light"
          }
        }
      ]
    },
    {
      "cell_type": "code",
      "metadata": {
        "colab": {
          "base_uri": "https://localhost:8080/",
          "height": 315
        },
        "id": "LkVm33lQfAw7",
        "outputId": "e5c3d60c-f796-49fe-e2a6-677167f78ff2"
      },
      "source": [
        "pd.crosstab(data.month,data.y).plot(kind='bar')\n",
        "plt.title('Purchase Frequency for Month')\n",
        "plt.xlabel('Month')\n",
        "plt.ylabel('Frequency of Purchase')\n",
        "plt.savefig('pur_fre_month_bar')"
      ],
      "execution_count": 23,
      "outputs": [
        {
          "output_type": "display_data",
          "data": {
            "image/png": "[encoded data removed]",
            "text/plain": [
              "<Figure size 432x288 with 1 Axes>"
            ]
          },
          "metadata": {
            "tags": [],
            "needs_background": "light"
          }
        }
      ]
    },
    {
      "cell_type": "code",
      "metadata": {
        "colab": {
          "base_uri": "https://localhost:8080/",
          "height": 301
        },
        "id": "YSJxJxPgfIc8",
        "outputId": "272b66bb-727c-46a7-d86a-795db2ffc4de"
      },
      "source": [
        "data.age.hist()\n",
        "plt.title('Histogram of Age')\n",
        "plt.xlabel('Age')\n",
        "plt.ylabel('Frequency')\n",
        "plt.savefig('hist_age')"
      ],
      "execution_count": 24,
      "outputs": [
        {
          "output_type": "display_data",
          "data": {
            "image/png": "[encoded data removed]",
            "text/plain": [
              "<Figure size 432x288 with 1 Axes>"
            ]
          },
          "metadata": {
            "tags": [],
            "needs_background": "light"
          }
        }
      ]
    },
    {
      "cell_type": "code",
      "metadata": {
        "colab": {
          "base_uri": "https://localhost:8080/",
          "height": 356
        },
        "id": "zFe-4b2QfReV",
        "outputId": "18032f8a-4f09-400c-a879-8dc049ce3cab"
      },
      "source": [
        "pd.crosstab(data.poutcome,data.y).plot(kind='bar')\n",
        "plt.title('Purchase Frequency for Poutcome')\n",
        "plt.xlabel('Poutcome')\n",
        "plt.ylabel('Frequency of Purchase')\n",
        "plt.savefig('pur_fre_pout_bar')"
      ],
      "execution_count": 25,
      "outputs": [
        {
          "output_type": "display_data",
          "data": {
            "image/png": "[encoded data removed]",
            "text/plain": [
              "<Figure size 432x288 with 1 Axes>"
            ]
          },
          "metadata": {
            "tags": [],
            "needs_background": "light"
          }
        }
      ]
    },
    {
      "cell_type": "code",
      "metadata": {
        "id": "WYcgYXL3giwJ"
      },
      "source": [
        "cat_vars=['job','marital','education','default','housing','loan','contact','month','day_of_week','poutcome']\n",
        "for var in cat_vars:\n",
        "    cat_list='var'+'_'+var\n",
        "    cat_list = pd.get_dummies(data[var], prefix=var)\n",
        "    data1=data.join(cat_list)\n",
        "    data=data1\n",
        "cat_vars=['job','marital','education','default','housing','loan','contact','month','day_of_week','poutcome']\n",
        "data_vars=data.columns.values.tolist()\n",
        "to_keep=[i for i in data_vars if i not in cat_vars]"
      ],
      "execution_count": 26,
      "outputs": []
    },
    {
      "cell_type": "code",
      "metadata": {
        "colab": {
          "base_uri": "https://localhost:8080/"
        },
        "id": "ioSfBq7WgmIP",
        "outputId": "06f14e78-10d5-4c47-dd5b-473497babc17"
      },
      "source": [
        "data_final=data[to_keep]\n",
        "data_final.columns.values"
      ],
      "execution_count": 27,
      "outputs": [
        {
          "output_type": "execute_result",
          "data": {
            "text/plain": [
              "array(['age', 'duration', 'campaign', 'pdays', 'previous', 'emp_var_rate',\n",
              "       'cons_price_idx', 'cons_conf_idx', 'euribor3m', 'nr_employed', 'y',\n",
              "       'job_admin.', 'job_blue-collar', 'job_entrepreneur',\n",
              "       'job_housemaid', 'job_management', 'job_retired',\n",
              "       'job_self-employed', 'job_services', 'job_student',\n",
              "       'job_technician', 'job_unemployed', 'job_unknown',\n",
              "       'marital_divorced', 'marital_married', 'marital_single',\n",
              "       'marital_unknown', 'education_Basic', 'education_high.school',\n",
              "       'education_illiterate', 'education_professional.course',\n",
              "       'education_university.degree', 'education_unknown', 'default_no',\n",
              "       'default_unknown', 'default_yes', 'housing_no', 'housing_unknown',\n",
              "       'housing_yes', 'loan_no', 'loan_unknown', 'loan_yes',\n",
              "       'contact_cellular', 'contact_telephone', 'month_apr', 'month_aug',\n",
              "       'month_dec', 'month_jul', 'month_jun', 'month_mar', 'month_may',\n",
              "       'month_nov', 'month_oct', 'month_sep', 'day_of_week_fri',\n",
              "       'day_of_week_mon', 'day_of_week_thu', 'day_of_week_tue',\n",
              "       'day_of_week_wed', 'poutcome_failure', 'poutcome_nonexistent',\n",
              "       'poutcome_success'], dtype=object)"
            ]
          },
          "metadata": {
            "tags": []
          },
          "execution_count": 27
        }
      ]
    },
    {
      "cell_type": "code",
      "metadata": {
        "colab": {
          "base_uri": "https://localhost:8080/"
        },
        "id": "46p242-vgqGR",
        "outputId": "f18f756e-d914-4e65-875e-96b8c9312ba5"
      },
      "source": [
        "X = data_final.loc[:, data_final.columns != 'y']\n",
        "y = data_final.loc[:, data_final.columns == 'y']\n",
        "from imblearn.over_sampling import SMOTE\n",
        "os = SMOTE(random_state=0)\n",
        "X_train, X_test, y_train, y_test = train_test_split(X, y, test_size=0.3, random_state=0)\n",
        "columns = X_train.columns\n",
        "os_data_X,os_data_y=os.fit_sample(X_train, y_train)\n",
        "os_data_X = pd.DataFrame(data=os_data_X,columns=columns )\n",
        "os_data_y= pd.DataFrame(data=os_data_y,columns=['y'])\n",
        "# we can Check the numbers of our data\n",
        "print(\"length of oversampled data is \",len(os_data_X))\n",
        "print(\"Number of no subscription in oversampled data\",len(os_data_y[os_data_y['y']==0]))\n",
        "print(\"Number of subscription\",len(os_data_y[os_data_y['y']==1]))\n",
        "print(\"Proportion of no subscription data in oversampled data is \",len(os_data_y[os_data_y['y']==0])/len(os_data_X))\n",
        "print(\"Proportion of subscription data in oversampled data is \",len(os_data_y[os_data_y['y']==1])/len(os_data_X))"
      ],
      "execution_count": 28,
      "outputs": [
        {
          "output_type": "stream",
          "text": [
            "/usr/local/lib/python3.7/dist-packages/sklearn/externals/six.py:31: FutureWarning: The module is deprecated in version 0.21 and will be removed in version 0.23 since we've dropped support for Python 2.7. Please rely on the official version of six (https://pypi.org/project/six/).\n",
            "  \"(https://pypi.org/project/six/).\", FutureWarning)\n",
            "/usr/local/lib/python3.7/dist-packages/sklearn/utils/deprecation.py:144: FutureWarning: The sklearn.neighbors.base module is  deprecated in version 0.22 and will be removed in version 0.24. The corresponding classes / functions should instead be imported from sklearn.neighbors. Anything that cannot be imported from sklearn.neighbors is now part of the private API.\n",
            "  warnings.warn(message, FutureWarning)\n",
            "/usr/local/lib/python3.7/dist-packages/sklearn/utils/validation.py:760: DataConversionWarning: A column-vector y was passed when a 1d array was expected. Please change the shape of y to (n_samples, ), for example using ravel().\n",
            "  y = column_or_1d(y, warn=True)\n",
            "/usr/local/lib/python3.7/dist-packages/sklearn/utils/deprecation.py:87: FutureWarning: Function safe_indexing is deprecated; safe_indexing is deprecated in version 0.22 and will be removed in version 0.24.\n",
            "  warnings.warn(msg, category=FutureWarning)\n"
          ],
          "name": "stderr"
        },
        {
          "output_type": "stream",
          "text": [
            "length of oversampled data is  51134\n",
            "Number of no subscription in oversampled data 25567\n",
            "Number of subscription 25567\n",
            "Proportion of no subscription data in oversampled data is  0.5\n",
            "Proportion of subscription data in oversampled data is  0.5\n"
          ],
          "name": "stdout"
        }
      ]
    },
    {
      "cell_type": "code",
      "metadata": {
        "id": "WPFZHP7-fdSb"
      },
      "source": [
        "from sklearn.linear_model import LogisticRegression\n",
        "logreg = LogisticRegression()"
      ],
      "execution_count": 29,
      "outputs": []
    },
    {
      "cell_type": "code",
      "metadata": {
        "id": "GQbH5O34gbsa",
        "colab": {
          "base_uri": "https://localhost:8080/"
        },
        "outputId": "6b32433d-fa86-4a07-e560-019f4cda6a13"
      },
      "source": [
        "import statsmodels.api as sm\n",
        "logit_model=sm.Logit(y,X)\n",
        "result=logit_model.fit()\n",
        "print(result.summary2())"
      ],
      "execution_count": 31,
      "outputs": [
        {
          "output_type": "stream",
          "text": [
            "Warning: Maximum number of iterations has been exceeded.\n",
            "         Current function value: 0.207332\n",
            "         Iterations: 35\n"
          ],
          "name": "stdout"
        },
        {
          "output_type": "stream",
          "text": [
            "/usr/local/lib/python3.7/dist-packages/statsmodels/base/model.py:512: ConvergenceWarning: Maximum Likelihood optimization failed to converge. Check mle_retvals\n",
            "  \"Check mle_retvals\", ConvergenceWarning)\n",
            "/usr/local/lib/python3.7/dist-packages/statsmodels/base/model.py:1286: RuntimeWarning: invalid value encountered in sqrt\n",
            "  bse_ = np.sqrt(np.diag(self.cov_params()))\n"
          ],
          "name": "stderr"
        },
        {
          "output_type": "stream",
          "text": [
            "                                         Results: Logit\n",
            "================================================================================================\n",
            "Model:                         Logit                      Pseudo R-squared:           0.411     \n",
            "Dependent Variable:            y                          AIC:                        17181.1442\n",
            "Date:                          2021-08-09 16:28           BIC:                        17621.0653\n",
            "No. Observations:              41188                      Log-Likelihood:             -8539.6   \n",
            "Df Model:                      50                         LL-Null:                    -14499.   \n",
            "Df Residuals:                  41137                      LLR p-value:                0.0000    \n",
            "Converged:                     0.0000                     Scale:                      1.0000    \n",
            "No. Iterations:                35.0000                                                          \n",
            "------------------------------------------------------------------------------------------------\n",
            "                               Coef.     Std.Err.      z     P>|z|      [0.025         0.975]   \n",
            "------------------------------------------------------------------------------------------------\n",
            "age                             0.0001       0.0024   0.0410 0.9673        -0.0046        0.0048\n",
            "duration                        0.0047       0.0001  63.1105 0.0000         0.0046        0.0049\n",
            "campaign                       -0.0402       0.0116  -3.4745 0.0005        -0.0628       -0.0175\n",
            "pdays                          -0.0009       0.0002  -4.3240 0.0000        -0.0014       -0.0005\n",
            "previous                       -0.0624       0.0591  -1.0550 0.2914        -0.1782        0.0535\n",
            "emp_var_rate                   -1.7570       0.1420 -12.3767 0.0000        -2.0352       -1.4787\n",
            "cons_price_idx                  2.1881       0.2523   8.6711 0.0000         1.6935        2.6827\n",
            "cons_conf_idx                   0.0206       0.0078   2.6569 0.0079         0.0054        0.0359\n",
            "euribor3m                       0.3318       0.1299   2.5531 0.0107         0.0771        0.5865\n",
            "nr_employed                     0.0054       0.0031   1.7344 0.0828        -0.0007        0.0115\n",
            "job_admin.                     -7.6645  488542.2774  -0.0000 1.0000   -957532.9332   957517.6042\n",
            "job_blue-collar                -7.8976  473294.6870  -0.0000 1.0000   -927648.4383   927632.6431\n",
            "job_entrepreneur               -7.8427  477549.7019  -0.0000 1.0000   -935988.0591   935972.3738\n",
            "job_housemaid                  -7.6932  486076.6231  -0.0000 1.0000   -952700.3682   952684.9819\n",
            "job_management                 -7.7202  473917.0732  -0.0000 1.0000   -928868.1152   928852.6749\n",
            "job_retired                    -7.3818  489953.2953  -0.0000 1.0000   -960298.1946   960283.4311\n",
            "job_self-employed              -7.8251  477346.7179  -0.0000 1.0000   -935590.2003   935574.5502\n",
            "job_services                   -7.8006  462170.5499  -0.0000 1.0000   -905845.4332   905829.8319\n",
            "job_student                    -7.4627  481117.2803  -0.0000 1.0000   -942980.0044   942965.0790\n",
            "job_technician                 -7.6793  475778.2594  -0.0000 1.0000   -932515.9324   932500.5738\n",
            "job_unemployed                 -7.6475  458903.4721  -0.0000 1.0000   -899441.9251   899426.6301\n",
            "job_unknown                    -7.7325  470924.3053  -0.0000 1.0000   -923002.4103   922986.9453\n",
            "marital_divorced              -23.1079          nan      nan    nan            nan           nan\n",
            "marital_married               -23.1096          nan      nan    nan            nan           nan\n",
            "marital_single                -23.0529          nan      nan    nan            nan           nan\n",
            "marital_unknown               -23.0754          nan      nan    nan            nan           nan\n",
            "education_Basic               -15.6376          nan      nan    nan            nan           nan\n",
            "education_high.school         -15.6102          nan      nan    nan            nan           nan\n",
            "education_illiterate          -14.5909          nan      nan    nan            nan           nan\n",
            "education_professional.course -15.5425          nan      nan    nan            nan           nan\n",
            "education_university.degree   -15.4618          nan      nan    nan            nan           nan\n",
            "education_unknown             -15.5080          nan      nan    nan            nan           nan\n",
            "default_no                    -26.1117          nan      nan    nan            nan           nan\n",
            "default_unknown               -26.4096          nan      nan    nan            nan           nan\n",
            "default_yes                   -39.8299          nan      nan    nan            nan           nan\n",
            "housing_no                    -30.7593          nan      nan    nan            nan           nan\n",
            "housing_unknown               -30.7879 7419253.2807  -0.0000 1.0000 -14541500.0103 14541438.4344\n",
            "housing_yes                   -30.7642          nan      nan    nan            nan           nan\n",
            "loan_no                       -30.7335          nan      nan    nan            nan           nan\n",
            "loan_unknown                  -30.7985 7473931.3783  -0.0000 1.0000 -14648667.1229 14648605.5260\n",
            "loan_yes                      -30.7856          nan      nan    nan            nan           nan\n",
            "contact_cellular              -43.6691  589554.2498  -0.0001 0.9999  -1155548.7656  1155461.4273\n",
            "contact_telephone             -44.3142  565813.2566  -0.0001 0.9999  -1109017.9192  1108929.2908\n",
            "month_apr                      -9.4308          nan      nan    nan            nan           nan\n",
            "month_aug                      -8.5662          nan      nan    nan            nan           nan\n",
            "month_dec                      -9.1143          nan      nan    nan            nan           nan\n",
            "month_jul                      -9.2957          nan      nan    nan            nan           nan\n",
            "month_jun                      -9.9540          nan      nan    nan            nan           nan\n",
            "month_mar                      -7.4177          nan      nan    nan            nan           nan\n",
            "month_may                      -9.8744          nan      nan    nan            nan           nan\n",
            "month_nov                      -9.8486          nan      nan    nan            nan           nan\n",
            "month_oct                      -9.2362          nan      nan    nan            nan           nan\n",
            "month_sep                      -9.0554          nan      nan    nan            nan           nan\n",
            "day_of_week_fri               -18.3027          nan      nan    nan            nan           nan\n",
            "day_of_week_mon               -18.4203          nan      nan    nan            nan           nan\n",
            "day_of_week_thu               -18.2464          nan      nan    nan            nan           nan\n",
            "day_of_week_tue               -18.2056          nan      nan    nan            nan           nan\n",
            "day_of_week_wed               -18.1274          nan      nan    nan            nan           nan\n",
            "poutcome_failure              -30.8868  178588.8132  -0.0002 0.9999   -350058.5286   349996.7551\n",
            "poutcome_nonexistent          -30.4605  178588.8132  -0.0002 0.9999   -350058.1024   349997.1814\n",
            "poutcome_success              -29.9264  178588.8132  -0.0002 0.9999   -350057.5683   349997.7154\n",
            "================================================================================================\n",
            "\n"
          ],
          "name": "stdout"
        }
      ]
    },
    {
      "cell_type": "code",
      "metadata": {
        "colab": {
          "base_uri": "https://localhost:8080/"
        },
        "id": "kUihlvRAvtPh",
        "outputId": "ad6bb550-1aef-408a-c53c-0248e5cb8194"
      },
      "source": [
        "cols=['euribor3m', 'job_blue-collar', 'job_housemaid', 'marital_unknown', 'education_illiterate', \n",
        "      'month_apr', 'month_aug', 'month_dec', 'month_jul', 'month_jun', 'month_mar', \n",
        "      'month_may', 'month_nov', 'month_oct', \"poutcome_failure\", \"poutcome_success\"] \n",
        "X=os_data_X[cols]\n",
        "y=os_data_y['y']\n",
        "logit_model=sm.Logit(y,X)\n",
        "result=logit_model.fit()\n",
        "print(result.summary2())"
      ],
      "execution_count": 32,
      "outputs": [
        {
          "output_type": "stream",
          "text": [
            "Optimization terminated successfully.\n",
            "         Current function value: 0.555890\n",
            "         Iterations 7\n",
            "                           Results: Logit\n",
            "=====================================================================\n",
            "Model:                Logit             Pseudo R-squared:  0.198     \n",
            "Dependent Variable:   y                 AIC:               56881.7793\n",
            "Date:                 2021-08-09 16:29  BIC:               57023.2546\n",
            "No. Observations:     51134             Log-Likelihood:    -28425.   \n",
            "Df Model:             15                LL-Null:           -35443.   \n",
            "Df Residuals:         51118             LLR p-value:       0.0000    \n",
            "Converged:            1.0000            Scale:             1.0000    \n",
            "No. Iterations:       7.0000                                         \n",
            "---------------------------------------------------------------------\n",
            "                      Coef.  Std.Err.    z     P>|z|   [0.025  0.975]\n",
            "---------------------------------------------------------------------\n",
            "euribor3m            -0.4488   0.0074 -60.6838 0.0000 -0.4632 -0.4343\n",
            "job_blue-collar      -0.2097   0.0278  -7.5345 0.0000 -0.2643 -0.1552\n",
            "job_housemaid        -0.2793   0.0762  -3.6636 0.0002 -0.4287 -0.1299\n",
            "marital_unknown       0.7618   0.2244   3.3953 0.0007  0.3220  1.2016\n",
            "education_illiterate  1.3085   0.4346   3.0108 0.0026  0.4567  2.1604\n",
            "month_apr             1.2863   0.0380  33.8252 0.0000  1.2117  1.3608\n",
            "month_aug             1.3948   0.0411  33.9435 0.0000  1.3143  1.4754\n",
            "month_dec             1.8090   0.1441  12.5523 0.0000  1.5265  2.0915\n",
            "month_jul             1.6763   0.0424  39.5459 0.0000  1.5932  1.7594\n",
            "month_jun             1.5586   0.0408  38.1651 0.0000  1.4786  1.6387\n",
            "month_mar             2.8220   0.0908  31.0943 0.0000  2.6442  2.9999\n",
            "month_may             0.5867   0.0304  19.2814 0.0000  0.5270  0.6463\n",
            "month_nov             1.2735   0.0445  28.5964 0.0000  1.1863  1.3608\n",
            "month_oct             2.7225   0.0815  33.3924 0.0000  2.5627  2.8823\n",
            "poutcome_failure     -0.2803   0.0351  -7.9904 0.0000 -0.3490 -0.2115\n",
            "poutcome_success      1.9619   0.0602  32.5957 0.0000  1.8439  2.0798\n",
            "=====================================================================\n",
            "\n"
          ],
          "name": "stdout"
        }
      ]
    },
    {
      "cell_type": "markdown",
      "metadata": {
        "id": "ABSImeVswAfo"
      },
      "source": [
        "# **Logistic Regression Model Fitting**"
      ]
    },
    {
      "cell_type": "code",
      "metadata": {
        "colab": {
          "base_uri": "https://localhost:8080/"
        },
        "id": "GSSyfgMOwJgY",
        "outputId": "2fc5e7dc-4930-4569-cf20-e86a956d8dc1"
      },
      "source": [
        "from sklearn.linear_model import LogisticRegression\n",
        "from sklearn import metrics\n",
        "\n",
        "X_train, X_test, y_train, y_test = train_test_split(X, y, \n",
        "                                          test_size = 0.3,random_state =1)\n",
        "logreg = LogisticRegression()\n",
        "logreg.fit(X_train, y_train)"
      ],
      "execution_count": 33,
      "outputs": [
        {
          "output_type": "stream",
          "text": [
            "/usr/local/lib/python3.7/dist-packages/sklearn/linear_model/_logistic.py:940: ConvergenceWarning: lbfgs failed to converge (status=1):\n",
            "STOP: TOTAL NO. of ITERATIONS REACHED LIMIT.\n",
            "\n",
            "Increase the number of iterations (max_iter) or scale the data as shown in:\n",
            "    https://scikit-learn.org/stable/modules/preprocessing.html\n",
            "Please also refer to the documentation for alternative solver options:\n",
            "    https://scikit-learn.org/stable/modules/linear_model.html#logistic-regression\n",
            "  extra_warning_msg=_LOGISTIC_SOLVER_CONVERGENCE_MSG)\n"
          ],
          "name": "stderr"
        },
        {
          "output_type": "execute_result",
          "data": {
            "text/plain": [
              "LogisticRegression(C=1.0, class_weight=None, dual=False, fit_intercept=True,\n",
              "                   intercept_scaling=1, l1_ratio=None, max_iter=100,\n",
              "                   multi_class='auto', n_jobs=None, penalty='l2',\n",
              "                   random_state=None, solver='lbfgs', tol=0.0001, verbose=0,\n",
              "                   warm_start=False)"
            ]
          },
          "metadata": {
            "tags": []
          },
          "execution_count": 33
        }
      ]
    },
    {
      "cell_type": "code",
      "metadata": {
        "colab": {
          "base_uri": "https://localhost:8080/"
        },
        "id": "KFJpnYtuwq6Z",
        "outputId": "6a8bf50c-4665-4596-aa22-fe707b811eeb"
      },
      "source": [
        "y_pred = logreg.predict(X_test)\n",
        "print('Accuracy of logisctic regression on test set:{:.2f}'.format(logreg.score(X_test, y_test)))"
      ],
      "execution_count": 34,
      "outputs": [
        {
          "output_type": "stream",
          "text": [
            "Accuracy of logisctic regression on test set:0.73\n"
          ],
          "name": "stdout"
        }
      ]
    },
    {
      "cell_type": "markdown",
      "metadata": {
        "id": "_oGA0mtWxZ-7"
      },
      "source": [
        "# **Confusion Matrix**"
      ]
    },
    {
      "cell_type": "code",
      "metadata": {
        "colab": {
          "base_uri": "https://localhost:8080/"
        },
        "id": "Cyop4NFdxjWT",
        "outputId": "1190676a-a098-4cc0-e276-91e87dfb7414"
      },
      "source": [
        "from sklearn.metrics import confusion_matrix\n",
        "confusion_matrix = confusion_matrix(y_test, y_pred)\n",
        "print(confusion_matrix)"
      ],
      "execution_count": 35,
      "outputs": [
        {
          "output_type": "stream",
          "text": [
            "[[6161 1588]\n",
            " [2550 5042]]\n"
          ],
          "name": "stdout"
        }
      ]
    },
    {
      "cell_type": "code",
      "metadata": {
        "colab": {
          "base_uri": "https://localhost:8080/"
        },
        "id": "pMgBSuXnxuC_",
        "outputId": "61b092a9-a2d5-489e-ba11-42e69c6b6362"
      },
      "source": [
        "from sklearn.metrics import classification_report\n",
        "print(classification_report(y_test, y_pred))"
      ],
      "execution_count": 36,
      "outputs": [
        {
          "output_type": "stream",
          "text": [
            "              precision    recall  f1-score   support\n",
            "\n",
            "           0       0.71      0.80      0.75      7749\n",
            "           1       0.76      0.66      0.71      7592\n",
            "\n",
            "    accuracy                           0.73     15341\n",
            "   macro avg       0.73      0.73      0.73     15341\n",
            "weighted avg       0.73      0.73      0.73     15341\n",
            "\n"
          ],
          "name": "stdout"
        }
      ]
    },
    {
      "cell_type": "code",
      "metadata": {
        "colab": {
          "base_uri": "https://localhost:8080/",
          "height": 301
        },
        "id": "kHhDMIu5yASW",
        "outputId": "34aa36a9-35d7-4013-cd58-a960b18a5d74"
      },
      "source": [
        "from sklearn.metrics import roc_auc_score\n",
        "from sklearn.metrics import roc_curve\n",
        "logit_roc_auc = roc_auc_score(y_test, logreg.predict(X_test))\n",
        "fpr, tpr, thresholds = roc_curve(y_test, logreg.predict_proba(X_test)[:,1])\n",
        "plt.figure()\n",
        "plt.plot(fpr, tpr, label='Logistic Regression (area = %0.2f)' % logit_roc_auc)\n",
        "plt.plot([0, 1], [0, 1],'r--')\n",
        "plt.xlim([0.0, 1.0])\n",
        "plt.ylim([0.0, 1.05])\n",
        "plt.xlabel('False Positive Rate')\n",
        "plt.ylabel('True Positive Rate')\n",
        "plt.title('Receiver operating characteristic')\n",
        "plt.legend(loc=\"lower right\")\n",
        "plt.savefig('Log_ROC')\n",
        "plt.show()"
      ],
      "execution_count": 38,
      "outputs": [
        {
          "output_type": "display_data",
          "data": {
            "image/png": "[encoded data removed]",
            "text/plain": [
              "<Figure size 432x288 with 1 Axes>"
            ]
          },
          "metadata": {
            "tags": [],
            "needs_background": "light"
          }
        }
      ]
    },
    {
      "cell_type": "code",
      "metadata": {
        "id": "DkaUXBk5zPKn"
      },
      "source": [
        ""
      ],
      "execution_count": null,
      "outputs": []
    }
  ]
}